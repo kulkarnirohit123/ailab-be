import pandas as pd
import seaborn as sns
import matplotlib.pyplot as plt

# Load the dataset
dataset_path = 'data/coupons.csv'  # Adjust the path as needed
data = pd.read_csv(dataset_path)

# Display basic information about the dataset
print("Dataset Information:")
data.info()
print("\nFirst 5 Rows:")
print(data.head())

# Visualization 1: Distribution of acceptance vs. rejection
plt.figure(figsize=(8, 5))
sns.countplot(x='Y', data=data, palette='viridis')
plt.title('Distribution of Coupon Acceptance (Y)', fontsize=16)
plt.xlabel('Accepted Coupon (1 = Yes, 0 = No)', fontsize=12)
plt.ylabel('Count', fontsize=12)
plt.show()

# Visualization 2: Coupon types and acceptance rate
plt.figure(figsize=(10, 6))
sns.countplot(x='coupon', hue='Y', data=data, palette='muted')
plt.title('Coupon Types vs Acceptance Rate', fontsize=16)
plt.xlabel('Coupon Type', fontsize=12)
plt.ylabel('Count', fontsize=12)
plt.legend(title='Accepted (Y)')
plt.xticks(rotation=45)
plt.show()

# Visualization 3: Acceptance based on weather conditions
plt.figure(figsize=(10, 6))
sns.countplot(x='weather', hue='Y', data=data, palette='coolwarm')
plt.title('Weather Conditions vs Coupon Acceptance', fontsize=16)
plt.xlabel('Weather', fontsize=12)
plt.ylabel('Count', fontsize=12)
plt.legend(title='Accepted (Y)')
plt.show()

# Visualization 4: Coupon acceptance based on time
plt.figure(figsize=(10, 6))
sns.countplot(x='time', hue='Y', data=data, palette='Set2')
plt.title('Time of Day vs Coupon Acceptance', fontsize=16)
plt.xlabel('Time of Day', fontsize=12)
plt.ylabel('Count', fontsize=12)
plt.legend(title='Accepted (Y)')
plt.show()

# Visualization 5: Coupon acceptance based on passenger type
plt.figure(figsize=(10, 6))
sns.countplot(x='passanger', hue='Y', data=data, palette='Paired')
plt.title('Passenger Type vs Coupon Acceptance', fontsize=16)
plt.xlabel('Passenger Type', fontsize=12)
plt.ylabel('Count', fontsize=12)
plt.legend(title='Accepted (Y)')
plt.xticks(rotation=45)
plt.show()

# Key Insights
print("\nKey Insights:")
print("1. Overall, most users accept the coupons, indicating a general preference.")
print("2. Coffee House and Restaurant (< $20) coupons are the most accepted, suggesting their appeal.")
print("3. Sunny weather correlates with higher acceptance rates, while Rainy and Snowy conditions see lower engagement.")
print("4. Coupons are most frequently accepted during lunchtime (10AM - 2PM). Evening and early morning show lower acceptance rates.")
print("5. Social passengers, such as friends, drive higher coupon acceptance, while solo travelers and those with kids show lower acceptance.")

